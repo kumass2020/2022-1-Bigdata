{
 "cells": [
  {
   "cell_type": "code",
   "execution_count": 7,
   "metadata": {},
   "outputs": [],
   "source": [
    "from bs4 import BeautifulSoup\n",
    "import urllib.request\n",
    "import pandas as pd\n",
    "import datetime\n",
    "\n",
    "from selenium import webdriver\n",
    "from selenium.webdriver.common.by import By\n",
    "import time"
   ]
  },
  {
   "cell_type": "code",
   "execution_count": 8,
   "metadata": {},
   "outputs": [],
   "source": [
    "def CoffeeBean_store(result):\n",
    "    CoffeeBean_URL = \"https://www.coffeebeankorea.com/store/store.asp\"\n",
    "    wd = webdriver.Chrome('./chromedriver')\n",
    "             \n",
    "    wd.get(CoffeeBean_URL)\n",
    "    time.sleep(1)\n",
    "    \n",
    "    element = wd.find_element_by_id('region_srh')\n",
    "    element.click()\n",
    "    time.sleep(1)\n",
    "    \n",
    "    element = wd.find_element(By.ID, 'localTitle')\n",
    "    element.click()\n",
    "    time.sleep(1)\n",
    "\n",
    "    # dropdown menu를 펼침\n",
    "    element = wd.find_element(By.ID, 'localTitle')\n",
    "    element.click()\n",
    "    time.sleep(1)\n",
    "    \n",
    "    element = wd.find_element(By.ID, 'storeLocal')\n",
    "    elements = element.find_elements(By.TAG_NAME, 'li')     # 지역명이 나와있는 리스트들을 찾고\n",
    "    for element in elements:        \n",
    "        if element.text == '서울':  # 텍스트에 서울을 갖고 있는 요소를 찾아냅니다.\n",
    "            break\n",
    "    \n",
    "    element.find_element(By.TAG_NAME, 'a')  # 해당 요소 하위 태그인 a 태그를 찾아내 클릭\n",
    "    element.click()\n",
    "    \n",
    "    time.sleep(1)\n",
    "    \n",
    "    # 성남시 분당구 찾기 시작\n",
    "    # dropdown menu를 펼침\n",
    "    element = wd.find_element_by_id('localTitle2')\n",
    "    element.click()\n",
    "    time.sleep(1)\n",
    "    \n",
    "    element = wd.find_element(By.ID, 'storeLocal2')\n",
    "    elements = element.find_elements(By.TAG_NAME, 'li')\n",
    "    for element in elements:\n",
    "        if element.text == '송파구':\n",
    "            break\n",
    "    \n",
    "    element.find_element(By.TAG_NAME, 'a')\n",
    "    element.click()\n",
    "\n",
    "    for i in range(1, 13):  #매장 수 만큼 반복\n",
    "        time.sleep(1)  #웹페이지 연결할 동안 1초 대기\n",
    "        try:\n",
    "            wd.execute_script(\"storePop2(%d)\" %i)\n",
    "            time.sleep(1) #스크립트 실행 할 동안 1초 대기\n",
    "            html = wd.page_source\n",
    "            soupCB = BeautifulSoup(html, 'html.parser')\n",
    "            store_name_h2 = soupCB.select(\"div.store_txt > h2\")\n",
    "            store_name = store_name_h2[0].string\n",
    "            print(store_name)  #매장 이름 출력하기\n",
    "            store_info = soupCB.select(\"div.store_txt > table.store_table > tbody > tr > td\")\n",
    "            store_address_list = list(store_info[2])\n",
    "            store_address = store_address_list[0]\n",
    "            store_phone = store_info[3].string\n",
    "            result.append([store_name]+[store_address]+[store_phone])\n",
    "        except:\n",
    "            continue \n",
    "    \n",
    "    return\n",
    "\n"
   ]
  },
  {
   "cell_type": "code",
   "execution_count": 9,
   "metadata": {},
   "outputs": [
    {
     "name": "stdout",
     "output_type": "stream",
     "text": [
      "CoffeeBean store crawling >>>>>>>>>>>>>>>>>>>>>>>>>>\n"
     ]
    },
    {
     "name": "stderr",
     "output_type": "stream",
     "text": [
      "/var/folders/m0/5pqtbll13p97hjn1mqvl1mwh0000gn/T/ipykernel_1014/362348241.py:3: DeprecationWarning: executable_path has been deprecated, please pass in a Service object\n",
      "  wd = webdriver.Chrome('./chromedriver')\n",
      "/var/folders/m0/5pqtbll13p97hjn1mqvl1mwh0000gn/T/ipykernel_1014/362348241.py:8: DeprecationWarning: find_element_by_* commands are deprecated. Please use find_element() instead\n",
      "  element = wd.find_element_by_id('region_srh')\n"
     ]
    },
    {
     "ename": "ElementNotInteractableException",
     "evalue": "Message: element not interactable\n  (Session info: chrome=102.0.5005.61)\nStacktrace:\n0   chromedriver                        0x0000000102f389a0 chromedriver + 4426144\n1   chromedriver                        0x0000000102ed2798 chromedriver + 4007832\n2   chromedriver                        0x0000000102b2eb94 chromedriver + 191380\n3   chromedriver                        0x0000000102b5e734 chromedriver + 386868\n4   chromedriver                        0x0000000102b54608 chromedriver + 345608\n5   chromedriver                        0x0000000102b53ff4 chromedriver + 344052\n6   chromedriver                        0x0000000102b86648 chromedriver + 550472\n7   chromedriver                        0x0000000102b52cf4 chromedriver + 339188\n8   chromedriver                        0x0000000102f0f7d0 chromedriver + 4257744\n9   chromedriver                        0x0000000102f13580 chromedriver + 4273536\n10  chromedriver                        0x0000000102f176c4 chromedriver + 4290244\n11  chromedriver                        0x0000000102f13cf8 chromedriver + 4275448\n12  chromedriver                        0x0000000102ef3b38 chromedriver + 4143928\n13  chromedriver                        0x0000000102f2b21c chromedriver + 4370972\n14  chromedriver                        0x0000000102f2b380 chromedriver + 4371328\n15  chromedriver                        0x0000000102f3f154 chromedriver + 4452692\n16  libsystem_pthread.dylib             0x00000001c390e26c _pthread_start + 148\n17  libsystem_pthread.dylib             0x00000001c390908c thread_start + 8\n",
     "output_type": "error",
     "traceback": [
      "\u001b[0;31m---------------------------------------------------------------------------\u001b[0m",
      "\u001b[0;31mElementNotInteractableException\u001b[0m           Traceback (most recent call last)",
      "\u001b[1;32m/Users/hoho/hoho_dir/Development/github/2022-1-Bigdata/final_exam/201935256_문지환_final_exam.ipynb Cell 3'\u001b[0m in \u001b[0;36m<cell line: 10>\u001b[0;34m()\u001b[0m\n\u001b[1;32m      <a href='vscode-notebook-cell:/Users/hoho/hoho_dir/Development/github/2022-1-Bigdata/final_exam/201935256_%EB%AC%B8%EC%A7%80%ED%99%98_final_exam.ipynb#ch0000002?line=5'>6</a>\u001b[0m     CB_tbl \u001b[39m=\u001b[39m pd\u001b[39m.\u001b[39mDataFrame(result, columns\u001b[39m=\u001b[39m(\u001b[39m'\u001b[39m\u001b[39mstore\u001b[39m\u001b[39m'\u001b[39m, \u001b[39m'\u001b[39m\u001b[39maddress\u001b[39m\u001b[39m'\u001b[39m,\u001b[39m'\u001b[39m\u001b[39mphone\u001b[39m\u001b[39m'\u001b[39m))\n\u001b[1;32m      <a href='vscode-notebook-cell:/Users/hoho/hoho_dir/Development/github/2022-1-Bigdata/final_exam/201935256_%EB%AC%B8%EC%A7%80%ED%99%98_final_exam.ipynb#ch0000002?line=6'>7</a>\u001b[0m     CB_tbl\u001b[39m.\u001b[39mto_csv(\u001b[39m'\u001b[39m\u001b[39m./201935256문지환송파커피빈.csv\u001b[39m\u001b[39m'\u001b[39m, encoding\u001b[39m=\u001b[39m\u001b[39m'\u001b[39m\u001b[39mcp949\u001b[39m\u001b[39m'\u001b[39m, mode\u001b[39m=\u001b[39m\u001b[39m'\u001b[39m\u001b[39mw\u001b[39m\u001b[39m'\u001b[39m, index\u001b[39m=\u001b[39m\u001b[39mTrue\u001b[39;00m)\n\u001b[0;32m---> <a href='vscode-notebook-cell:/Users/hoho/hoho_dir/Development/github/2022-1-Bigdata/final_exam/201935256_%EB%AC%B8%EC%A7%80%ED%99%98_final_exam.ipynb#ch0000002?line=9'>10</a>\u001b[0m main()\n",
      "\u001b[1;32m/Users/hoho/hoho_dir/Development/github/2022-1-Bigdata/final_exam/201935256_문지환_final_exam.ipynb Cell 3'\u001b[0m in \u001b[0;36mmain\u001b[0;34m()\u001b[0m\n\u001b[1;32m      <a href='vscode-notebook-cell:/Users/hoho/hoho_dir/Development/github/2022-1-Bigdata/final_exam/201935256_%EB%AC%B8%EC%A7%80%ED%99%98_final_exam.ipynb#ch0000002?line=1'>2</a>\u001b[0m result \u001b[39m=\u001b[39m []\n\u001b[1;32m      <a href='vscode-notebook-cell:/Users/hoho/hoho_dir/Development/github/2022-1-Bigdata/final_exam/201935256_%EB%AC%B8%EC%A7%80%ED%99%98_final_exam.ipynb#ch0000002?line=2'>3</a>\u001b[0m \u001b[39mprint\u001b[39m(\u001b[39m'\u001b[39m\u001b[39mCoffeeBean store crawling >>>>>>>>>>>>>>>>>>>>>>>>>>\u001b[39m\u001b[39m'\u001b[39m)\n\u001b[0;32m----> <a href='vscode-notebook-cell:/Users/hoho/hoho_dir/Development/github/2022-1-Bigdata/final_exam/201935256_%EB%AC%B8%EC%A7%80%ED%99%98_final_exam.ipynb#ch0000002?line=3'>4</a>\u001b[0m CoffeeBean_store(result)  \u001b[39m#[CODE 1]\u001b[39;00m\n\u001b[1;32m      <a href='vscode-notebook-cell:/Users/hoho/hoho_dir/Development/github/2022-1-Bigdata/final_exam/201935256_%EB%AC%B8%EC%A7%80%ED%99%98_final_exam.ipynb#ch0000002?line=5'>6</a>\u001b[0m CB_tbl \u001b[39m=\u001b[39m pd\u001b[39m.\u001b[39mDataFrame(result, columns\u001b[39m=\u001b[39m(\u001b[39m'\u001b[39m\u001b[39mstore\u001b[39m\u001b[39m'\u001b[39m, \u001b[39m'\u001b[39m\u001b[39maddress\u001b[39m\u001b[39m'\u001b[39m,\u001b[39m'\u001b[39m\u001b[39mphone\u001b[39m\u001b[39m'\u001b[39m))\n\u001b[1;32m      <a href='vscode-notebook-cell:/Users/hoho/hoho_dir/Development/github/2022-1-Bigdata/final_exam/201935256_%EB%AC%B8%EC%A7%80%ED%99%98_final_exam.ipynb#ch0000002?line=6'>7</a>\u001b[0m CB_tbl\u001b[39m.\u001b[39mto_csv(\u001b[39m'\u001b[39m\u001b[39m./201935256문지환송파커피빈.csv\u001b[39m\u001b[39m'\u001b[39m, encoding\u001b[39m=\u001b[39m\u001b[39m'\u001b[39m\u001b[39mcp949\u001b[39m\u001b[39m'\u001b[39m, mode\u001b[39m=\u001b[39m\u001b[39m'\u001b[39m\u001b[39mw\u001b[39m\u001b[39m'\u001b[39m, index\u001b[39m=\u001b[39m\u001b[39mTrue\u001b[39;00m)\n",
      "\u001b[1;32m/Users/hoho/hoho_dir/Development/github/2022-1-Bigdata/final_exam/201935256_문지환_final_exam.ipynb Cell 2'\u001b[0m in \u001b[0;36mCoffeeBean_store\u001b[0;34m(result)\u001b[0m\n\u001b[1;32m     <a href='vscode-notebook-cell:/Users/hoho/hoho_dir/Development/github/2022-1-Bigdata/final_exam/201935256_%EB%AC%B8%EC%A7%80%ED%99%98_final_exam.ipynb#ch0000001?line=24'>25</a>\u001b[0m         \u001b[39mbreak\u001b[39;00m\n\u001b[1;32m     <a href='vscode-notebook-cell:/Users/hoho/hoho_dir/Development/github/2022-1-Bigdata/final_exam/201935256_%EB%AC%B8%EC%A7%80%ED%99%98_final_exam.ipynb#ch0000001?line=26'>27</a>\u001b[0m element\u001b[39m.\u001b[39mfind_element(By\u001b[39m.\u001b[39mTAG_NAME, \u001b[39m'\u001b[39m\u001b[39ma\u001b[39m\u001b[39m'\u001b[39m)  \u001b[39m# 해당 요소 하위 태그인 a 태그를 찾아내 클릭\u001b[39;00m\n\u001b[0;32m---> <a href='vscode-notebook-cell:/Users/hoho/hoho_dir/Development/github/2022-1-Bigdata/final_exam/201935256_%EB%AC%B8%EC%A7%80%ED%99%98_final_exam.ipynb#ch0000001?line=27'>28</a>\u001b[0m element\u001b[39m.\u001b[39;49mclick()\n\u001b[1;32m     <a href='vscode-notebook-cell:/Users/hoho/hoho_dir/Development/github/2022-1-Bigdata/final_exam/201935256_%EB%AC%B8%EC%A7%80%ED%99%98_final_exam.ipynb#ch0000001?line=29'>30</a>\u001b[0m time\u001b[39m.\u001b[39msleep(\u001b[39m1\u001b[39m)\n\u001b[1;32m     <a href='vscode-notebook-cell:/Users/hoho/hoho_dir/Development/github/2022-1-Bigdata/final_exam/201935256_%EB%AC%B8%EC%A7%80%ED%99%98_final_exam.ipynb#ch0000001?line=31'>32</a>\u001b[0m \u001b[39m# 성남시 분당구 찾기 시작\u001b[39;00m\n\u001b[1;32m     <a href='vscode-notebook-cell:/Users/hoho/hoho_dir/Development/github/2022-1-Bigdata/final_exam/201935256_%EB%AC%B8%EC%A7%80%ED%99%98_final_exam.ipynb#ch0000001?line=32'>33</a>\u001b[0m \u001b[39m# dropdown menu를 펼침\u001b[39;00m\n",
      "File \u001b[0;32m~/hoho_dir/Development/github/2022-1-Bigdata/venv/lib/python3.8/site-packages/selenium/webdriver/remote/webelement.py:81\u001b[0m, in \u001b[0;36mWebElement.click\u001b[0;34m(self)\u001b[0m\n\u001b[1;32m     <a href='file:///Users/hoho/hoho_dir/Development/github/2022-1-Bigdata/venv/lib/python3.8/site-packages/selenium/webdriver/remote/webelement.py?line=78'>79</a>\u001b[0m \u001b[39mdef\u001b[39;00m \u001b[39mclick\u001b[39m(\u001b[39mself\u001b[39m) \u001b[39m-\u001b[39m\u001b[39m>\u001b[39m \u001b[39mNone\u001b[39;00m:\n\u001b[1;32m     <a href='file:///Users/hoho/hoho_dir/Development/github/2022-1-Bigdata/venv/lib/python3.8/site-packages/selenium/webdriver/remote/webelement.py?line=79'>80</a>\u001b[0m     \u001b[39m\"\"\"Clicks the element.\"\"\"\u001b[39;00m\n\u001b[0;32m---> <a href='file:///Users/hoho/hoho_dir/Development/github/2022-1-Bigdata/venv/lib/python3.8/site-packages/selenium/webdriver/remote/webelement.py?line=80'>81</a>\u001b[0m     \u001b[39mself\u001b[39;49m\u001b[39m.\u001b[39;49m_execute(Command\u001b[39m.\u001b[39;49mCLICK_ELEMENT)\n",
      "File \u001b[0;32m~/hoho_dir/Development/github/2022-1-Bigdata/venv/lib/python3.8/site-packages/selenium/webdriver/remote/webelement.py:740\u001b[0m, in \u001b[0;36mWebElement._execute\u001b[0;34m(self, command, params)\u001b[0m\n\u001b[1;32m    <a href='file:///Users/hoho/hoho_dir/Development/github/2022-1-Bigdata/venv/lib/python3.8/site-packages/selenium/webdriver/remote/webelement.py?line=737'>738</a>\u001b[0m     params \u001b[39m=\u001b[39m {}\n\u001b[1;32m    <a href='file:///Users/hoho/hoho_dir/Development/github/2022-1-Bigdata/venv/lib/python3.8/site-packages/selenium/webdriver/remote/webelement.py?line=738'>739</a>\u001b[0m params[\u001b[39m'\u001b[39m\u001b[39mid\u001b[39m\u001b[39m'\u001b[39m] \u001b[39m=\u001b[39m \u001b[39mself\u001b[39m\u001b[39m.\u001b[39m_id\n\u001b[0;32m--> <a href='file:///Users/hoho/hoho_dir/Development/github/2022-1-Bigdata/venv/lib/python3.8/site-packages/selenium/webdriver/remote/webelement.py?line=739'>740</a>\u001b[0m \u001b[39mreturn\u001b[39;00m \u001b[39mself\u001b[39;49m\u001b[39m.\u001b[39;49m_parent\u001b[39m.\u001b[39;49mexecute(command, params)\n",
      "File \u001b[0;32m~/hoho_dir/Development/github/2022-1-Bigdata/venv/lib/python3.8/site-packages/selenium/webdriver/remote/webdriver.py:430\u001b[0m, in \u001b[0;36mWebDriver.execute\u001b[0;34m(self, driver_command, params)\u001b[0m\n\u001b[1;32m    <a href='file:///Users/hoho/hoho_dir/Development/github/2022-1-Bigdata/venv/lib/python3.8/site-packages/selenium/webdriver/remote/webdriver.py?line=427'>428</a>\u001b[0m response \u001b[39m=\u001b[39m \u001b[39mself\u001b[39m\u001b[39m.\u001b[39mcommand_executor\u001b[39m.\u001b[39mexecute(driver_command, params)\n\u001b[1;32m    <a href='file:///Users/hoho/hoho_dir/Development/github/2022-1-Bigdata/venv/lib/python3.8/site-packages/selenium/webdriver/remote/webdriver.py?line=428'>429</a>\u001b[0m \u001b[39mif\u001b[39;00m response:\n\u001b[0;32m--> <a href='file:///Users/hoho/hoho_dir/Development/github/2022-1-Bigdata/venv/lib/python3.8/site-packages/selenium/webdriver/remote/webdriver.py?line=429'>430</a>\u001b[0m     \u001b[39mself\u001b[39;49m\u001b[39m.\u001b[39;49merror_handler\u001b[39m.\u001b[39;49mcheck_response(response)\n\u001b[1;32m    <a href='file:///Users/hoho/hoho_dir/Development/github/2022-1-Bigdata/venv/lib/python3.8/site-packages/selenium/webdriver/remote/webdriver.py?line=430'>431</a>\u001b[0m     response[\u001b[39m'\u001b[39m\u001b[39mvalue\u001b[39m\u001b[39m'\u001b[39m] \u001b[39m=\u001b[39m \u001b[39mself\u001b[39m\u001b[39m.\u001b[39m_unwrap_value(\n\u001b[1;32m    <a href='file:///Users/hoho/hoho_dir/Development/github/2022-1-Bigdata/venv/lib/python3.8/site-packages/selenium/webdriver/remote/webdriver.py?line=431'>432</a>\u001b[0m         response\u001b[39m.\u001b[39mget(\u001b[39m'\u001b[39m\u001b[39mvalue\u001b[39m\u001b[39m'\u001b[39m, \u001b[39mNone\u001b[39;00m))\n\u001b[1;32m    <a href='file:///Users/hoho/hoho_dir/Development/github/2022-1-Bigdata/venv/lib/python3.8/site-packages/selenium/webdriver/remote/webdriver.py?line=432'>433</a>\u001b[0m     \u001b[39mreturn\u001b[39;00m response\n",
      "File \u001b[0;32m~/hoho_dir/Development/github/2022-1-Bigdata/venv/lib/python3.8/site-packages/selenium/webdriver/remote/errorhandler.py:247\u001b[0m, in \u001b[0;36mErrorHandler.check_response\u001b[0;34m(self, response)\u001b[0m\n\u001b[1;32m    <a href='file:///Users/hoho/hoho_dir/Development/github/2022-1-Bigdata/venv/lib/python3.8/site-packages/selenium/webdriver/remote/errorhandler.py?line=244'>245</a>\u001b[0m         alert_text \u001b[39m=\u001b[39m value[\u001b[39m'\u001b[39m\u001b[39malert\u001b[39m\u001b[39m'\u001b[39m]\u001b[39m.\u001b[39mget(\u001b[39m'\u001b[39m\u001b[39mtext\u001b[39m\u001b[39m'\u001b[39m)\n\u001b[1;32m    <a href='file:///Users/hoho/hoho_dir/Development/github/2022-1-Bigdata/venv/lib/python3.8/site-packages/selenium/webdriver/remote/errorhandler.py?line=245'>246</a>\u001b[0m     \u001b[39mraise\u001b[39;00m exception_class(message, screen, stacktrace, alert_text)  \u001b[39m# type: ignore[call-arg]  # mypy is not smart enough here\u001b[39;00m\n\u001b[0;32m--> <a href='file:///Users/hoho/hoho_dir/Development/github/2022-1-Bigdata/venv/lib/python3.8/site-packages/selenium/webdriver/remote/errorhandler.py?line=246'>247</a>\u001b[0m \u001b[39mraise\u001b[39;00m exception_class(message, screen, stacktrace)\n",
      "\u001b[0;31mElementNotInteractableException\u001b[0m: Message: element not interactable\n  (Session info: chrome=102.0.5005.61)\nStacktrace:\n0   chromedriver                        0x0000000102f389a0 chromedriver + 4426144\n1   chromedriver                        0x0000000102ed2798 chromedriver + 4007832\n2   chromedriver                        0x0000000102b2eb94 chromedriver + 191380\n3   chromedriver                        0x0000000102b5e734 chromedriver + 386868\n4   chromedriver                        0x0000000102b54608 chromedriver + 345608\n5   chromedriver                        0x0000000102b53ff4 chromedriver + 344052\n6   chromedriver                        0x0000000102b86648 chromedriver + 550472\n7   chromedriver                        0x0000000102b52cf4 chromedriver + 339188\n8   chromedriver                        0x0000000102f0f7d0 chromedriver + 4257744\n9   chromedriver                        0x0000000102f13580 chromedriver + 4273536\n10  chromedriver                        0x0000000102f176c4 chromedriver + 4290244\n11  chromedriver                        0x0000000102f13cf8 chromedriver + 4275448\n12  chromedriver                        0x0000000102ef3b38 chromedriver + 4143928\n13  chromedriver                        0x0000000102f2b21c chromedriver + 4370972\n14  chromedriver                        0x0000000102f2b380 chromedriver + 4371328\n15  chromedriver                        0x0000000102f3f154 chromedriver + 4452692\n16  libsystem_pthread.dylib             0x00000001c390e26c _pthread_start + 148\n17  libsystem_pthread.dylib             0x00000001c390908c thread_start + 8\n"
     ]
    }
   ],
   "source": [
    "\n",
    "def main():\n",
    "    result = []\n",
    "    print('CoffeeBean store crawling >>>>>>>>>>>>>>>>>>>>>>>>>>')\n",
    "    CoffeeBean_store(result)  #[CODE 1]\n",
    "    \n",
    "    CB_tbl = pd.DataFrame(result, columns=('store', 'address','phone'))\n",
    "    CB_tbl.to_csv('./201935256문지환송파커피빈.csv', encoding='cp949', mode='w', index=True)\n",
    "\n",
    "\n",
    "main()"
   ]
  }
 ],
 "metadata": {
  "interpreter": {
   "hash": "2b2a18499802adb5adfc5c2391adcefaa4fe6db4c40279856835d833eb5f0570"
  },
  "kernelspec": {
   "display_name": "Python 3.8.9 ('venv': venv)",
   "language": "python",
   "name": "python3"
  },
  "language_info": {
   "codemirror_mode": {
    "name": "ipython",
    "version": 3
   },
   "file_extension": ".py",
   "mimetype": "text/x-python",
   "name": "python",
   "nbconvert_exporter": "python",
   "pygments_lexer": "ipython3",
   "version": "3.8.9"
  },
  "orig_nbformat": 4
 },
 "nbformat": 4,
 "nbformat_minor": 2
}
