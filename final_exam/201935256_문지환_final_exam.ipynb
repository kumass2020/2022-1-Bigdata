{
 "cells": [
  {
   "cell_type": "markdown",
   "metadata": {},
   "source": [
    "### 커피빈 크롤링"
   ]
  },
  {
   "cell_type": "markdown",
   "metadata": {},
   "source": [
    "라이브러리 import"
   ]
  },
  {
   "cell_type": "code",
   "execution_count": 70,
   "metadata": {},
   "outputs": [],
   "source": [
    "from bs4 import BeautifulSoup\n",
    "import urllib.request\n",
    "import pandas as pd\n",
    "import datetime\n",
    "\n",
    "from selenium import webdriver\n",
    "from selenium.webdriver.common.by import By\n",
    "import time"
   ]
  },
  {
   "cell_type": "markdown",
   "metadata": {},
   "source": [
    "크롤링을 수행하는 함수 정의"
   ]
  },
  {
   "cell_type": "code",
   "execution_count": 71,
   "metadata": {},
   "outputs": [],
   "source": [
    "def CoffeeBean_store(result):\n",
    "    CoffeeBean_URL = \"https://www.coffeebeankorea.com/store/store.asp\"\n",
    "    wd = webdriver.Chrome('./chromedriver')\n",
    "\n",
    "    # for i in range(1, 13):  #매장 수 만큼 반복    \n",
    "    wd.get(CoffeeBean_URL)\n",
    "    time.sleep(1)\n",
    "    \n",
    "    element = wd.find_element_by_id('region_srh')\n",
    "    element.click()\n",
    "    time.sleep(1)\n",
    "\n",
    "    # dropdown menu를 펼침\n",
    "    element = wd.find_element(By.ID, 'localTitle')\n",
    "    element.click()\n",
    "    time.sleep(1)\n",
    "    \n",
    "    element = wd.find_element(By.ID, 'storeLocal')\n",
    "    elements = element.find_elements(By.TAG_NAME, 'li')     # 지역명이 나와있는 리스트들을 찾고\n",
    "    for element in elements:        \n",
    "        if element.text == '서울':  # 텍스트에 서울을 갖고 있는 요소를 찾아냅니다.\n",
    "            break\n",
    "    \n",
    "    element.find_element(By.TAG_NAME, 'a')  # 해당 요소 하위 태그인 a 태그를 찾아내 클릭\n",
    "    element.click()\n",
    "    \n",
    "    time.sleep(1)\n",
    "    \n",
    "    # 성남시 분당구 찾기 시작\n",
    "    # dropdown menu를 펼침\n",
    "    element = wd.find_element_by_id('localTitle2')\n",
    "    element.click()\n",
    "    time.sleep(1)\n",
    "    \n",
    "    element = wd.find_element(By.ID, 'storeLocal2')\n",
    "    elements = element.find_elements(By.TAG_NAME, 'li')\n",
    "    for element in elements:\n",
    "        if element.text == '송파구':\n",
    "            break\n",
    "    \n",
    "    element.find_element(By.TAG_NAME, 'a')\n",
    "    element.click()\n",
    "    time.sleep(1)  # 목록 띄울 동안 1초 대기\n",
    "\n",
    "    for i in range(13):\n",
    "        try:\n",
    "            elements = wd.find_elements(By.CLASS_NAME, 'btn_style6')\n",
    "            # wd.execute_script(\"storePop2(%d)\" %i)\n",
    "            elements[i].click()\n",
    "            time.sleep(1) #스크립트 실행 할 동안 1초 대기\n",
    "            html = wd.page_source\n",
    "            soupCB = BeautifulSoup(html, 'html.parser')\n",
    "            store_name_h2 = soupCB.select(\"div.store_txt > h2\")\n",
    "            store_name = store_name_h2[0].string\n",
    "            print(store_name)  #매장 이름 출력하기\n",
    "            store_info = soupCB.select(\"div.store_txt > table.store_table > tbody > tr > td\")\n",
    "            store_address_list = list(store_info[2])\n",
    "            store_address = store_address_list[0]\n",
    "            store_phone = store_info[3].string\n",
    "            result.append([store_name]+[store_address]+[store_phone])\n",
    "        except:\n",
    "            continue\n",
    "            \n",
    "        element = wd.find_element(By.ID, 'closeBtn1ActiveBtn')\n",
    "        element.click()\n",
    "        time.sleep(0.5)\n",
    "    \n",
    "    return\n",
    "\n"
   ]
  },
  {
   "cell_type": "markdown",
   "metadata": {},
   "source": [
    "함수 호출 및 DataFrame을 csv파일로 저장"
   ]
  },
  {
   "cell_type": "code",
   "execution_count": 72,
   "metadata": {},
   "outputs": [
    {
     "name": "stdout",
     "output_type": "stream",
     "text": [
      "CoffeeBean store crawling >>>>>>>>>>>>>>>>>>>>>>>>>>\n"
     ]
    },
    {
     "name": "stderr",
     "output_type": "stream",
     "text": [
      "/var/folders/m0/5pqtbll13p97hjn1mqvl1mwh0000gn/T/ipykernel_1014/4160513595.py:3: DeprecationWarning: executable_path has been deprecated, please pass in a Service object\n",
      "  wd = webdriver.Chrome('./chromedriver')\n",
      "/var/folders/m0/5pqtbll13p97hjn1mqvl1mwh0000gn/T/ipykernel_1014/4160513595.py:9: DeprecationWarning: find_element_by_* commands are deprecated. Please use find_element() instead\n",
      "  element = wd.find_element_by_id('region_srh')\n",
      "/var/folders/m0/5pqtbll13p97hjn1mqvl1mwh0000gn/T/ipykernel_1014/4160513595.py:31: DeprecationWarning: find_element_by_* commands are deprecated. Please use find_element() instead\n",
      "  element = wd.find_element_by_id('localTitle2')\n"
     ]
    },
    {
     "name": "stdout",
     "output_type": "stream",
     "text": [
      "송파헬리오시티점\n",
      "잠실향군타워점\n",
      "문정동환인제약빌딩점\n",
      "방이역4번출구점\n",
      "위례2차아이파크점\n",
      "현대시티몰가든파이브점\n",
      "몽촌토성역점\n",
      "문정역엠스테이트점\n",
      "송파파크하비오점\n",
      "석촌호수점\n",
      "올림픽플라자점\n",
      "방이점\n",
      "잠실신천점\n"
     ]
    }
   ],
   "source": [
    "\n",
    "def main():\n",
    "    result = []\n",
    "    print('CoffeeBean store crawling >>>>>>>>>>>>>>>>>>>>>>>>>>')\n",
    "    CoffeeBean_store(result)  #[CODE 1]\n",
    "    \n",
    "    CB_tbl = pd.DataFrame(result, columns=('store', 'address','phone'))\n",
    "    CB_tbl.to_csv('./201935256문지환송파커피빈.csv', encoding='cp949', mode='w', index=True)\n",
    "\n",
    "\n",
    "main()"
   ]
  },
  {
   "cell_type": "markdown",
   "metadata": {},
   "source": [
    "### 지오코드 API 사용"
   ]
  },
  {
   "cell_type": "code",
   "execution_count": 73,
   "metadata": {},
   "outputs": [
    {
     "data": {
      "text/html": [
       "<div>\n",
       "<style scoped>\n",
       "    .dataframe tbody tr th:only-of-type {\n",
       "        vertical-align: middle;\n",
       "    }\n",
       "\n",
       "    .dataframe tbody tr th {\n",
       "        vertical-align: top;\n",
       "    }\n",
       "\n",
       "    .dataframe thead th {\n",
       "        text-align: right;\n",
       "    }\n",
       "</style>\n",
       "<table border=\"1\" class=\"dataframe\">\n",
       "  <thead>\n",
       "    <tr style=\"text-align: right;\">\n",
       "      <th></th>\n",
       "      <th>store</th>\n",
       "      <th>address</th>\n",
       "      <th>phone</th>\n",
       "    </tr>\n",
       "  </thead>\n",
       "  <tbody>\n",
       "    <tr>\n",
       "      <th>0</th>\n",
       "      <td>송파헬리오시티점</td>\n",
       "      <td>서울시 송파구 송파대로 345 ( 헬리오시티상가 3블럭 A동 B1층 22호 )</td>\n",
       "      <td>02-777-3363</td>\n",
       "    </tr>\n",
       "    <tr>\n",
       "      <th>1</th>\n",
       "      <td>잠실향군타워점</td>\n",
       "      <td>서울특별시 송파구 올림픽로35길 123 1층</td>\n",
       "      <td>02-412-8812</td>\n",
       "    </tr>\n",
       "    <tr>\n",
       "      <th>2</th>\n",
       "      <td>문정동환인제약빌딩점</td>\n",
       "      <td>서울특별시 송파구 법원로6길 11 환인빌딩 1층</td>\n",
       "      <td>02-449-9569</td>\n",
       "    </tr>\n",
       "    <tr>\n",
       "      <th>3</th>\n",
       "      <td>방이역4번출구점</td>\n",
       "      <td>서울 송파구 방이동 206-11</td>\n",
       "      <td>02-420-0386</td>\n",
       "    </tr>\n",
       "    <tr>\n",
       "      <th>4</th>\n",
       "      <td>위례2차아이파크점</td>\n",
       "      <td>서울시 송파구 위례광장로 230 위례2차 아이파크 B동 1층</td>\n",
       "      <td>02-449-9703</td>\n",
       "    </tr>\n",
       "  </tbody>\n",
       "</table>\n",
       "</div>"
      ],
      "text/plain": [
       "        store                                        address        phone\n",
       "0    송파헬리오시티점  서울시 송파구 송파대로 345 ( 헬리오시티상가 3블럭 A동 B1층 22호 )    02-777-3363\n",
       "1     잠실향군타워점                     서울특별시 송파구 올림픽로35길 123 1층    02-412-8812\n",
       "2  문정동환인제약빌딩점                  서울특별시 송파구 법원로6길 11 환인빌딩 1층     02-449-9569\n",
       "3    방이역4번출구점                            서울 송파구 방이동 206-11    02-420-0386\n",
       "4   위례2차아이파크점            서울시 송파구 위례광장로 230 위례2차 아이파크 B동 1층    02-449-9703"
      ]
     },
     "execution_count": 73,
     "metadata": {},
     "output_type": "execute_result"
    }
   ],
   "source": [
    "import pandas as pd\n",
    "\n",
    "CB = pd.read_csv('./201935256문지환송파커피빈.csv', encoding='CP949', index_col=0, header=0, engine='python')\n",
    "\n",
    "CB.head()  #작업 내용 확인용 출력"
   ]
  },
  {
   "cell_type": "markdown",
   "metadata": {},
   "source": [
    "각 주소 전처리"
   ]
  },
  {
   "cell_type": "code",
   "execution_count": 74,
   "metadata": {},
   "outputs": [
    {
     "name": "stdout",
     "output_type": "stream",
     "text": [
      "데이터 개수 : 13\n"
     ]
    },
    {
     "data": {
      "text/plain": [
       "[['서울시', '송파구', '송파대로', '345', '(', '헬리오시티상가', '3블럭', 'A동', 'B1층', '22호', ')'],\n",
       " ['서울특별시', '송파구', '올림픽로35길', '123', '1층'],\n",
       " ['서울특별시', '송파구', '법원로6길', '11', '환인빌딩', '1층'],\n",
       " ['서울', '송파구', '방이동', '206-11'],\n",
       " ['서울시', '송파구', '위례광장로', '230', '위례2차', '아이파크', 'B동', '1층'],\n",
       " ['서울특별시', '송파구', '충민로', '66', '가든파이브', '라이프동', '테크노관', '1층'],\n",
       " ['서울시', '송파구', '방이동', '44-2,', '장은빌딩', '1층'],\n",
       " ['서울특별시', '송파구', '법원로', '114,', '엠스테이트', 'B동', '지하', '1층,', 'B145-147'],\n",
       " ['서울특별시', '송파구', '송파대로', '111', '송파파크하비오', '205동', '1층', '110-113'],\n",
       " ['서울시', '송파구', '석촌호수로', '222', '제이타워', '1층'],\n",
       " ['서울시', '송파구', '양재대로', '1222', '올림픽선수A', '1층212~3호'],\n",
       " ['서울시', '송파구', '오금로', '11길', '7'],\n",
       " ['서울시', '송파구', '석촌호수로', '118', '1층']]"
      ]
     },
     "execution_count": 74,
     "metadata": {},
     "output_type": "execute_result"
    }
   ],
   "source": [
    "addr = []\n",
    "\n",
    "for address in CB.address:\n",
    "    addr.append(str(address).split())\n",
    "\n",
    "#작업 내용 확인용 출력\n",
    "print('데이터 개수 : %d' % len(addr)) \n",
    "addr  "
   ]
  },
  {
   "cell_type": "markdown",
   "metadata": {},
   "source": [
    "주소 표준화"
   ]
  },
  {
   "cell_type": "code",
   "execution_count": 75,
   "metadata": {},
   "outputs": [
    {
     "data": {
      "text/plain": [
       "['서울특별시 송파구 송파대로 345 ( 헬리오시티상가 3블럭 A동 B1층 22호 )',\n",
       " '서울특별시 송파구 올림픽로35길 123 1층',\n",
       " '서울특별시 송파구 법원로6길 11 환인빌딩 1층',\n",
       " '서울특별시 송파구 방이동 206-11',\n",
       " '서울특별시 송파구 위례광장로 230 위례2차 아이파크 B동 1층',\n",
       " '서울특별시 송파구 충민로 66 가든파이브 라이프동 테크노관 1층',\n",
       " '서울특별시 송파구 방이동 44-2, 장은빌딩 1층',\n",
       " '서울특별시 송파구 법원로 114, 엠스테이트 B동 지하 1층, B145-147',\n",
       " '서울특별시 송파구 송파대로 111 송파파크하비오 205동 1층 110-113',\n",
       " '서울특별시 송파구 석촌호수로 222 제이타워 1층',\n",
       " '서울특별시 송파구 양재대로 1222 올림픽선수A 1층212~3호',\n",
       " '서울특별시 송파구 오금로 11길 7',\n",
       " '서울특별시 송파구 석촌호수로 118 1층']"
      ]
     },
     "execution_count": 75,
     "metadata": {},
     "output_type": "execute_result"
    }
   ],
   "source": [
    "addr2 = []\n",
    "\n",
    "# addr에서 행정구역 표준 이름이 아닌것 수정하기\n",
    "for i in range(len(addr)):\n",
    "    if addr[i][0] == \"서울\": addr[i][0]=\"서울특별시\"\n",
    "    elif addr[i][0] == \"서울시\": addr[i][0]=\"서울특별시\"\n",
    "    elif addr[i][0] == \"부산시\": addr[i][0]=\"부산광역시\"\n",
    "    elif addr[i][0] == \"인천\": addr[i][0]=\"인천광역시\"\n",
    "    elif addr[i][0] == \"광주\": addr[i][0]=\"광주광역시\"\n",
    "    elif addr[i][0] == \"대전시\": addr[i][0]=\"대전광역시\"\n",
    "    elif addr[i][0] == \"울산시\": addr[i][0]=\"울산광역시\"    \n",
    "    elif addr[i][0] == \"세종시\": addr[i][0]=\"세종특별자치시\"\n",
    "    elif addr[i][0] == \"경기\": addr[i][0]=\"경기도\"\n",
    "    elif addr[i][0] == \"충북\": addr[i][0]=\"충청북도\"\n",
    "    elif addr[i][0] == \"충남\": addr[i][0]=\"충청남도\"\n",
    "    elif addr[i][0] == \"전북\": addr[i][0]=\"전라북도\"\n",
    "    elif addr[i][0] == \"전남\": addr[i][0]=\"전라남도\"\n",
    "    elif addr[i][0] == \"경북\": addr[i][0]=\"경상북도\"\n",
    "    elif addr[i][0] == \"경남\": addr[i][0]=\"경상남도\"\n",
    "    elif addr[i][0] == \"제주\": addr[i][0]=\"제주특별자치도\"\n",
    "    elif addr[i][0] == \"제주도\": addr[i][0]=\"제주특별자치도\"\n",
    "    elif addr[i][0] == \"제주시\": addr[i][0]=\"제주특별자치도\"                                \n",
    "       \n",
    "    addr2.append(' '.join(addr[i]))  \n",
    "\n",
    "addr2 #작업 내용 확인용 출력"
   ]
  },
  {
   "cell_type": "markdown",
   "metadata": {},
   "source": [
    "list to DataFrame"
   ]
  },
  {
   "cell_type": "code",
   "execution_count": 76,
   "metadata": {},
   "outputs": [
    {
     "data": {
      "text/html": [
       "<div>\n",
       "<style scoped>\n",
       "    .dataframe tbody tr th:only-of-type {\n",
       "        vertical-align: middle;\n",
       "    }\n",
       "\n",
       "    .dataframe tbody tr th {\n",
       "        vertical-align: top;\n",
       "    }\n",
       "\n",
       "    .dataframe thead th {\n",
       "        text-align: right;\n",
       "    }\n",
       "</style>\n",
       "<table border=\"1\" class=\"dataframe\">\n",
       "  <thead>\n",
       "    <tr style=\"text-align: right;\">\n",
       "      <th></th>\n",
       "      <th>address2</th>\n",
       "    </tr>\n",
       "  </thead>\n",
       "  <tbody>\n",
       "    <tr>\n",
       "      <th>0</th>\n",
       "      <td>서울특별시 송파구 송파대로 345 ( 헬리오시티상가 3블럭 A동 B1층 22호 )</td>\n",
       "    </tr>\n",
       "    <tr>\n",
       "      <th>1</th>\n",
       "      <td>서울특별시 송파구 올림픽로35길 123 1층</td>\n",
       "    </tr>\n",
       "    <tr>\n",
       "      <th>2</th>\n",
       "      <td>서울특별시 송파구 법원로6길 11 환인빌딩 1층</td>\n",
       "    </tr>\n",
       "    <tr>\n",
       "      <th>3</th>\n",
       "      <td>서울특별시 송파구 방이동 206-11</td>\n",
       "    </tr>\n",
       "    <tr>\n",
       "      <th>4</th>\n",
       "      <td>서울특별시 송파구 위례광장로 230 위례2차 아이파크 B동 1층</td>\n",
       "    </tr>\n",
       "    <tr>\n",
       "      <th>5</th>\n",
       "      <td>서울특별시 송파구 충민로 66 가든파이브 라이프동 테크노관 1층</td>\n",
       "    </tr>\n",
       "    <tr>\n",
       "      <th>6</th>\n",
       "      <td>서울특별시 송파구 방이동 44-2, 장은빌딩 1층</td>\n",
       "    </tr>\n",
       "    <tr>\n",
       "      <th>7</th>\n",
       "      <td>서울특별시 송파구 법원로 114, 엠스테이트 B동 지하 1층, B145-147</td>\n",
       "    </tr>\n",
       "    <tr>\n",
       "      <th>8</th>\n",
       "      <td>서울특별시 송파구 송파대로 111 송파파크하비오 205동 1층 110-113</td>\n",
       "    </tr>\n",
       "    <tr>\n",
       "      <th>9</th>\n",
       "      <td>서울특별시 송파구 석촌호수로 222 제이타워 1층</td>\n",
       "    </tr>\n",
       "    <tr>\n",
       "      <th>10</th>\n",
       "      <td>서울특별시 송파구 양재대로 1222 올림픽선수A 1층212~3호</td>\n",
       "    </tr>\n",
       "    <tr>\n",
       "      <th>11</th>\n",
       "      <td>서울특별시 송파구 오금로 11길 7</td>\n",
       "    </tr>\n",
       "    <tr>\n",
       "      <th>12</th>\n",
       "      <td>서울특별시 송파구 석촌호수로 118 1층</td>\n",
       "    </tr>\n",
       "  </tbody>\n",
       "</table>\n",
       "</div>"
      ],
      "text/plain": [
       "                                         address2\n",
       "0   서울특별시 송파구 송파대로 345 ( 헬리오시티상가 3블럭 A동 B1층 22호 )\n",
       "1                        서울특별시 송파구 올림픽로35길 123 1층\n",
       "2                      서울특별시 송파구 법원로6길 11 환인빌딩 1층\n",
       "3                            서울특별시 송파구 방이동 206-11\n",
       "4             서울특별시 송파구 위례광장로 230 위례2차 아이파크 B동 1층\n",
       "5             서울특별시 송파구 충민로 66 가든파이브 라이프동 테크노관 1층\n",
       "6                     서울특별시 송파구 방이동 44-2, 장은빌딩 1층\n",
       "7     서울특별시 송파구 법원로 114, 엠스테이트 B동 지하 1층, B145-147\n",
       "8      서울특별시 송파구 송파대로 111 송파파크하비오 205동 1층 110-113\n",
       "9                     서울특별시 송파구 석촌호수로 222 제이타워 1층\n",
       "10            서울특별시 송파구 양재대로 1222 올림픽선수A 1층212~3호\n",
       "11                            서울특별시 송파구 오금로 11길 7\n",
       "12                         서울특별시 송파구 석촌호수로 118 1층"
      ]
     },
     "execution_count": 76,
     "metadata": {},
     "output_type": "execute_result"
    }
   ],
   "source": [
    "addr2 = pd.DataFrame(addr2, columns=['address2'])\n",
    "\n",
    "addr2 #작업 내용 확인용 출력"
   ]
  },
  {
   "cell_type": "markdown",
   "metadata": {},
   "source": [
    "기존 DataFrame에 병합"
   ]
  },
  {
   "cell_type": "code",
   "execution_count": 77,
   "metadata": {},
   "outputs": [
    {
     "data": {
      "text/html": [
       "<div>\n",
       "<style scoped>\n",
       "    .dataframe tbody tr th:only-of-type {\n",
       "        vertical-align: middle;\n",
       "    }\n",
       "\n",
       "    .dataframe tbody tr th {\n",
       "        vertical-align: top;\n",
       "    }\n",
       "\n",
       "    .dataframe thead th {\n",
       "        text-align: right;\n",
       "    }\n",
       "</style>\n",
       "<table border=\"1\" class=\"dataframe\">\n",
       "  <thead>\n",
       "    <tr style=\"text-align: right;\">\n",
       "      <th></th>\n",
       "      <th>store</th>\n",
       "      <th>address</th>\n",
       "      <th>phone</th>\n",
       "      <th>address2</th>\n",
       "    </tr>\n",
       "  </thead>\n",
       "  <tbody>\n",
       "    <tr>\n",
       "      <th>0</th>\n",
       "      <td>송파헬리오시티점</td>\n",
       "      <td>서울시 송파구 송파대로 345 ( 헬리오시티상가 3블럭 A동 B1층 22호 )</td>\n",
       "      <td>02-777-3363</td>\n",
       "      <td>서울특별시 송파구 송파대로 345 ( 헬리오시티상가 3블럭 A동 B1층 22호 )</td>\n",
       "    </tr>\n",
       "    <tr>\n",
       "      <th>1</th>\n",
       "      <td>잠실향군타워점</td>\n",
       "      <td>서울특별시 송파구 올림픽로35길 123 1층</td>\n",
       "      <td>02-412-8812</td>\n",
       "      <td>서울특별시 송파구 올림픽로35길 123 1층</td>\n",
       "    </tr>\n",
       "    <tr>\n",
       "      <th>2</th>\n",
       "      <td>문정동환인제약빌딩점</td>\n",
       "      <td>서울특별시 송파구 법원로6길 11 환인빌딩 1층</td>\n",
       "      <td>02-449-9569</td>\n",
       "      <td>서울특별시 송파구 법원로6길 11 환인빌딩 1층</td>\n",
       "    </tr>\n",
       "    <tr>\n",
       "      <th>3</th>\n",
       "      <td>방이역4번출구점</td>\n",
       "      <td>서울 송파구 방이동 206-11</td>\n",
       "      <td>02-420-0386</td>\n",
       "      <td>서울특별시 송파구 방이동 206-11</td>\n",
       "    </tr>\n",
       "    <tr>\n",
       "      <th>4</th>\n",
       "      <td>위례2차아이파크점</td>\n",
       "      <td>서울시 송파구 위례광장로 230 위례2차 아이파크 B동 1층</td>\n",
       "      <td>02-449-9703</td>\n",
       "      <td>서울특별시 송파구 위례광장로 230 위례2차 아이파크 B동 1층</td>\n",
       "    </tr>\n",
       "  </tbody>\n",
       "</table>\n",
       "</div>"
      ],
      "text/plain": [
       "        store                                        address        phone  \\\n",
       "0    송파헬리오시티점  서울시 송파구 송파대로 345 ( 헬리오시티상가 3블럭 A동 B1층 22호 )    02-777-3363   \n",
       "1     잠실향군타워점                     서울특별시 송파구 올림픽로35길 123 1층    02-412-8812   \n",
       "2  문정동환인제약빌딩점                  서울특별시 송파구 법원로6길 11 환인빌딩 1층     02-449-9569   \n",
       "3    방이역4번출구점                            서울 송파구 방이동 206-11    02-420-0386   \n",
       "4   위례2차아이파크점            서울시 송파구 위례광장로 230 위례2차 아이파크 B동 1층    02-449-9703   \n",
       "\n",
       "                                        address2  \n",
       "0  서울특별시 송파구 송파대로 345 ( 헬리오시티상가 3블럭 A동 B1층 22호 )  \n",
       "1                       서울특별시 송파구 올림픽로35길 123 1층  \n",
       "2                     서울특별시 송파구 법원로6길 11 환인빌딩 1층  \n",
       "3                           서울특별시 송파구 방이동 206-11  \n",
       "4            서울특별시 송파구 위례광장로 230 위례2차 아이파크 B동 1층  "
      ]
     },
     "execution_count": 77,
     "metadata": {},
     "output_type": "execute_result"
    }
   ],
   "source": [
    "CB2 = pd.concat([CB, addr2],  axis=1 )\n",
    "\n",
    "CB2.head()  #작업 내용 확인용 출력"
   ]
  },
  {
   "cell_type": "code",
   "execution_count": 78,
   "metadata": {},
   "outputs": [
    {
     "name": "stdout",
     "output_type": "stream",
     "text": [
      "Requirement already satisfied: folium in /Users/hoho/hoho_dir/Development/github/2022-1-Bigdata/venv/lib/python3.8/site-packages (0.12.1.post1)\n",
      "Requirement already satisfied: branca>=0.3.0 in /Users/hoho/hoho_dir/Development/github/2022-1-Bigdata/venv/lib/python3.8/site-packages (from folium) (0.5.0)\n",
      "Requirement already satisfied: numpy in /Users/hoho/hoho_dir/Development/github/2022-1-Bigdata/venv/lib/python3.8/site-packages (from folium) (1.22.3)\n",
      "Requirement already satisfied: requests in /Users/hoho/hoho_dir/Development/github/2022-1-Bigdata/venv/lib/python3.8/site-packages (from folium) (2.27.1)\n",
      "Requirement already satisfied: jinja2>=2.9 in /Users/hoho/hoho_dir/Development/github/2022-1-Bigdata/venv/lib/python3.8/site-packages (from folium) (3.1.2)\n",
      "Requirement already satisfied: MarkupSafe>=2.0 in /Users/hoho/hoho_dir/Development/github/2022-1-Bigdata/venv/lib/python3.8/site-packages (from jinja2>=2.9->folium) (2.1.1)\n",
      "Requirement already satisfied: charset-normalizer~=2.0.0 in /Users/hoho/hoho_dir/Development/github/2022-1-Bigdata/venv/lib/python3.8/site-packages (from requests->folium) (2.0.12)\n",
      "Requirement already satisfied: certifi>=2017.4.17 in /Users/hoho/hoho_dir/Development/github/2022-1-Bigdata/venv/lib/python3.8/site-packages (from requests->folium) (2021.10.8)\n",
      "Requirement already satisfied: urllib3<1.27,>=1.21.1 in /Users/hoho/hoho_dir/Development/github/2022-1-Bigdata/venv/lib/python3.8/site-packages (from requests->folium) (1.26.9)\n",
      "Requirement already satisfied: idna<4,>=2.5 in /Users/hoho/hoho_dir/Development/github/2022-1-Bigdata/venv/lib/python3.8/site-packages (from requests->folium) (3.3)\n",
      "\u001b[33mWARNING: You are using pip version 21.1.2; however, version 22.1.2 is available.\n",
      "You should consider upgrading via the '/Users/hoho/hoho_dir/Development/github/2022-1-Bigdata/venv/bin/python -m pip install --upgrade pip' command.\u001b[0m\n",
      "Note: you may need to restart the kernel to use updated packages.\n"
     ]
    }
   ],
   "source": [
    "%pip install folium"
   ]
  },
  {
   "cell_type": "markdown",
   "metadata": {},
   "source": [
    "필요한 라이브러리 import"
   ]
  },
  {
   "cell_type": "code",
   "execution_count": 79,
   "metadata": {},
   "outputs": [],
   "source": [
    "import folium"
   ]
  },
  {
   "cell_type": "code",
   "execution_count": 80,
   "metadata": {},
   "outputs": [],
   "source": [
    "import requests\n",
    "from urllib import parse\n",
    "import pandas as pd\n",
    "import re"
   ]
  },
  {
   "cell_type": "markdown",
   "metadata": {},
   "source": [
    "API를 요청하는 함수"
   ]
  },
  {
   "cell_type": "code",
   "execution_count": 81,
   "metadata": {},
   "outputs": [],
   "source": [
    "def geocode(address, type='ROAD'):\n",
    "    result = requests.get(\"http://api.vworld.kr/req/address?service=address\"\n",
    "        + \"&request=getcoord\"\n",
    "        + \"&address=\" + parse.quote(address) + \"&type=\" + type\n",
    "        + \"&key=838DDA11-A005-360D-8388-51D7EFC76EFC\")\n",
    "    return result"
   ]
  },
  {
   "cell_type": "code",
   "execution_count": 82,
   "metadata": {},
   "outputs": [
    {
     "data": {
      "text/html": [
       "<div>\n",
       "<style scoped>\n",
       "    .dataframe tbody tr th:only-of-type {\n",
       "        vertical-align: middle;\n",
       "    }\n",
       "\n",
       "    .dataframe tbody tr th {\n",
       "        vertical-align: top;\n",
       "    }\n",
       "\n",
       "    .dataframe thead th {\n",
       "        text-align: right;\n",
       "    }\n",
       "</style>\n",
       "<table border=\"1\" class=\"dataframe\">\n",
       "  <thead>\n",
       "    <tr style=\"text-align: right;\">\n",
       "      <th></th>\n",
       "      <th>store</th>\n",
       "      <th>address</th>\n",
       "      <th>phone</th>\n",
       "      <th>address2</th>\n",
       "      <th>경도</th>\n",
       "      <th>위도</th>\n",
       "    </tr>\n",
       "  </thead>\n",
       "  <tbody>\n",
       "    <tr>\n",
       "      <th>0</th>\n",
       "      <td>송파헬리오시티점</td>\n",
       "      <td>서울시 송파구 송파대로 345 ( 헬리오시티상가 3블럭 A동 B1층 22호 )</td>\n",
       "      <td>02-777-3363</td>\n",
       "      <td>서울특별시 송파구 송파대로 345 ( 헬리오시티상가 3블럭 A동 B1층 22호 )</td>\n",
       "      <td>0.0</td>\n",
       "      <td>0.0</td>\n",
       "    </tr>\n",
       "    <tr>\n",
       "      <th>1</th>\n",
       "      <td>잠실향군타워점</td>\n",
       "      <td>서울특별시 송파구 올림픽로35길 123 1층</td>\n",
       "      <td>02-412-8812</td>\n",
       "      <td>서울특별시 송파구 올림픽로35길 123 1층</td>\n",
       "      <td>0.0</td>\n",
       "      <td>0.0</td>\n",
       "    </tr>\n",
       "    <tr>\n",
       "      <th>2</th>\n",
       "      <td>문정동환인제약빌딩점</td>\n",
       "      <td>서울특별시 송파구 법원로6길 11 환인빌딩 1층</td>\n",
       "      <td>02-449-9569</td>\n",
       "      <td>서울특별시 송파구 법원로6길 11 환인빌딩 1층</td>\n",
       "      <td>0.0</td>\n",
       "      <td>0.0</td>\n",
       "    </tr>\n",
       "    <tr>\n",
       "      <th>3</th>\n",
       "      <td>방이역4번출구점</td>\n",
       "      <td>서울 송파구 방이동 206-11</td>\n",
       "      <td>02-420-0386</td>\n",
       "      <td>서울특별시 송파구 방이동 206-11</td>\n",
       "      <td>0.0</td>\n",
       "      <td>0.0</td>\n",
       "    </tr>\n",
       "    <tr>\n",
       "      <th>4</th>\n",
       "      <td>위례2차아이파크점</td>\n",
       "      <td>서울시 송파구 위례광장로 230 위례2차 아이파크 B동 1층</td>\n",
       "      <td>02-449-9703</td>\n",
       "      <td>서울특별시 송파구 위례광장로 230 위례2차 아이파크 B동 1층</td>\n",
       "      <td>0.0</td>\n",
       "      <td>0.0</td>\n",
       "    </tr>\n",
       "    <tr>\n",
       "      <th>5</th>\n",
       "      <td>현대시티몰가든파이브점</td>\n",
       "      <td>서울특별시 송파구 충민로 66 가든파이브 라이프동 테크노관 1층</td>\n",
       "      <td>02-2673-2110</td>\n",
       "      <td>서울특별시 송파구 충민로 66 가든파이브 라이프동 테크노관 1층</td>\n",
       "      <td>0.0</td>\n",
       "      <td>0.0</td>\n",
       "    </tr>\n",
       "    <tr>\n",
       "      <th>6</th>\n",
       "      <td>몽촌토성역점</td>\n",
       "      <td>서울시 송파구 방이동 44-2, 장은빌딩 1층</td>\n",
       "      <td>02-2141-0407</td>\n",
       "      <td>서울특별시 송파구 방이동 44-2, 장은빌딩 1층</td>\n",
       "      <td>0.0</td>\n",
       "      <td>0.0</td>\n",
       "    </tr>\n",
       "    <tr>\n",
       "      <th>7</th>\n",
       "      <td>문정역엠스테이트점</td>\n",
       "      <td>서울특별시 송파구 법원로 114, 엠스테이트 B동 지하 1층, B145-147</td>\n",
       "      <td>02-6177-9080</td>\n",
       "      <td>서울특별시 송파구 법원로 114, 엠스테이트 B동 지하 1층, B145-147</td>\n",
       "      <td>0.0</td>\n",
       "      <td>0.0</td>\n",
       "    </tr>\n",
       "    <tr>\n",
       "      <th>8</th>\n",
       "      <td>송파파크하비오점</td>\n",
       "      <td>서울특별시 송파구 송파대로 111 송파파크하비오 205동 1층 110-113</td>\n",
       "      <td>02-449-6881</td>\n",
       "      <td>서울특별시 송파구 송파대로 111 송파파크하비오 205동 1층 110-113</td>\n",
       "      <td>0.0</td>\n",
       "      <td>0.0</td>\n",
       "    </tr>\n",
       "    <tr>\n",
       "      <th>9</th>\n",
       "      <td>석촌호수점</td>\n",
       "      <td>서울시 송파구 석촌호수로 222 제이타워 1층</td>\n",
       "      <td>02-415-1235</td>\n",
       "      <td>서울특별시 송파구 석촌호수로 222 제이타워 1층</td>\n",
       "      <td>0.0</td>\n",
       "      <td>0.0</td>\n",
       "    </tr>\n",
       "    <tr>\n",
       "      <th>10</th>\n",
       "      <td>올림픽플라자점</td>\n",
       "      <td>서울시 송파구 양재대로 1222 올림픽선수A 1층212~3호</td>\n",
       "      <td>02-402-3571</td>\n",
       "      <td>서울특별시 송파구 양재대로 1222 올림픽선수A 1층212~3호</td>\n",
       "      <td>0.0</td>\n",
       "      <td>0.0</td>\n",
       "    </tr>\n",
       "    <tr>\n",
       "      <th>11</th>\n",
       "      <td>방이점</td>\n",
       "      <td>서울시 송파구 오금로 11길 7</td>\n",
       "      <td>02-415-5561</td>\n",
       "      <td>서울특별시 송파구 오금로 11길 7</td>\n",
       "      <td>0.0</td>\n",
       "      <td>0.0</td>\n",
       "    </tr>\n",
       "    <tr>\n",
       "      <th>12</th>\n",
       "      <td>잠실신천점</td>\n",
       "      <td>서울시 송파구 석촌호수로 118 1층</td>\n",
       "      <td>02-416-9520</td>\n",
       "      <td>서울특별시 송파구 석촌호수로 118 1층</td>\n",
       "      <td>0.0</td>\n",
       "      <td>0.0</td>\n",
       "    </tr>\n",
       "  </tbody>\n",
       "</table>\n",
       "</div>"
      ],
      "text/plain": [
       "          store                                         address         phone  \\\n",
       "0      송파헬리오시티점   서울시 송파구 송파대로 345 ( 헬리오시티상가 3블럭 A동 B1층 22호 )     02-777-3363   \n",
       "1       잠실향군타워점                      서울특별시 송파구 올림픽로35길 123 1층     02-412-8812   \n",
       "2    문정동환인제약빌딩점                   서울특별시 송파구 법원로6길 11 환인빌딩 1층      02-449-9569   \n",
       "3      방이역4번출구점                             서울 송파구 방이동 206-11     02-420-0386   \n",
       "4     위례2차아이파크점             서울시 송파구 위례광장로 230 위례2차 아이파크 B동 1층     02-449-9703   \n",
       "5   현대시티몰가든파이브점           서울특별시 송파구 충민로 66 가든파이브 라이프동 테크노관 1층    02-2673-2110   \n",
       "6        몽촌토성역점                     서울시 송파구 방이동 44-2, 장은빌딩 1층    02-2141-0407   \n",
       "7     문정역엠스테이트점  서울특별시 송파구 법원로 114, 엠스테이트 B동 지하 1층, B145-147     02-6177-9080   \n",
       "8      송파파크하비오점    서울특별시 송파구 송파대로 111 송파파크하비오 205동 1층 110-113     02-449-6881   \n",
       "9         석촌호수점                     서울시 송파구 석촌호수로 222 제이타워 1층     02-415-1235   \n",
       "10      올림픽플라자점             서울시 송파구 양재대로 1222 올림픽선수A 1층212~3호     02-402-3571   \n",
       "11          방이점                             서울시 송파구 오금로 11길 7     02-415-5561   \n",
       "12        잠실신천점                          서울시 송파구 석촌호수로 118 1층     02-416-9520   \n",
       "\n",
       "                                         address2   경도   위도  \n",
       "0   서울특별시 송파구 송파대로 345 ( 헬리오시티상가 3블럭 A동 B1층 22호 )  0.0  0.0  \n",
       "1                        서울특별시 송파구 올림픽로35길 123 1층  0.0  0.0  \n",
       "2                      서울특별시 송파구 법원로6길 11 환인빌딩 1층  0.0  0.0  \n",
       "3                            서울특별시 송파구 방이동 206-11  0.0  0.0  \n",
       "4             서울특별시 송파구 위례광장로 230 위례2차 아이파크 B동 1층  0.0  0.0  \n",
       "5             서울특별시 송파구 충민로 66 가든파이브 라이프동 테크노관 1층  0.0  0.0  \n",
       "6                     서울특별시 송파구 방이동 44-2, 장은빌딩 1층  0.0  0.0  \n",
       "7     서울특별시 송파구 법원로 114, 엠스테이트 B동 지하 1층, B145-147  0.0  0.0  \n",
       "8      서울특별시 송파구 송파대로 111 송파파크하비오 205동 1층 110-113  0.0  0.0  \n",
       "9                     서울특별시 송파구 석촌호수로 222 제이타워 1층  0.0  0.0  \n",
       "10            서울특별시 송파구 양재대로 1222 올림픽선수A 1층212~3호  0.0  0.0  \n",
       "11                            서울특별시 송파구 오금로 11길 7  0.0  0.0  \n",
       "12                         서울특별시 송파구 석촌호수로 118 1층  0.0  0.0  "
      ]
     },
     "execution_count": 82,
     "metadata": {},
     "output_type": "execute_result"
    }
   ],
   "source": [
    "# 경도, 위도 필드 만들기\n",
    "CB2['경도'] = 0.0\n",
    "CB2['위도'] = 0.0\n",
    "CB2"
   ]
  },
  {
   "cell_type": "markdown",
   "metadata": {},
   "source": [
    "API 호출하고 각 주소에 해당하는 좌표를 수집"
   ]
  },
  {
   "cell_type": "code",
   "execution_count": 83,
   "metadata": {},
   "outputs": [
    {
     "data": {
      "text/html": [
       "<div>\n",
       "<style scoped>\n",
       "    .dataframe tbody tr th:only-of-type {\n",
       "        vertical-align: middle;\n",
       "    }\n",
       "\n",
       "    .dataframe tbody tr th {\n",
       "        vertical-align: top;\n",
       "    }\n",
       "\n",
       "    .dataframe thead th {\n",
       "        text-align: right;\n",
       "    }\n",
       "</style>\n",
       "<table border=\"1\" class=\"dataframe\">\n",
       "  <thead>\n",
       "    <tr style=\"text-align: right;\">\n",
       "      <th></th>\n",
       "      <th>store</th>\n",
       "      <th>address</th>\n",
       "      <th>phone</th>\n",
       "      <th>address2</th>\n",
       "      <th>경도</th>\n",
       "      <th>위도</th>\n",
       "    </tr>\n",
       "  </thead>\n",
       "  <tbody>\n",
       "    <tr>\n",
       "      <th>0</th>\n",
       "      <td>송파헬리오시티점</td>\n",
       "      <td>서울시 송파구 송파대로 345 ( 헬리오시티상가 3블럭 A동 B1층 22호 )</td>\n",
       "      <td>02-777-3363</td>\n",
       "      <td>서울특별시 송파구 송파대로 345 ( 헬리오시티상가 3블럭 A동 B1층 22호 )</td>\n",
       "      <td>127.1025</td>\n",
       "      <td>37.4977</td>\n",
       "    </tr>\n",
       "    <tr>\n",
       "      <th>1</th>\n",
       "      <td>잠실향군타워점</td>\n",
       "      <td>서울특별시 송파구 올림픽로35길 123 1층</td>\n",
       "      <td>02-412-8812</td>\n",
       "      <td>서울특별시 송파구 올림픽로35길 123 1층</td>\n",
       "      <td>127.1012</td>\n",
       "      <td>37.5166</td>\n",
       "    </tr>\n",
       "    <tr>\n",
       "      <th>2</th>\n",
       "      <td>문정동환인제약빌딩점</td>\n",
       "      <td>서울특별시 송파구 법원로6길 11 환인빌딩 1층</td>\n",
       "      <td>02-449-9569</td>\n",
       "      <td>서울특별시 송파구 법원로6길 11 환인빌딩 1층</td>\n",
       "      <td>127.1222</td>\n",
       "      <td>37.4836</td>\n",
       "    </tr>\n",
       "    <tr>\n",
       "      <th>3</th>\n",
       "      <td>방이역4번출구점</td>\n",
       "      <td>서울 송파구 방이동 206-11</td>\n",
       "      <td>02-420-0386</td>\n",
       "      <td>서울특별시 송파구 방이동 206-11</td>\n",
       "      <td>127.1258</td>\n",
       "      <td>37.5094</td>\n",
       "    </tr>\n",
       "    <tr>\n",
       "      <th>4</th>\n",
       "      <td>위례2차아이파크점</td>\n",
       "      <td>서울시 송파구 위례광장로 230 위례2차 아이파크 B동 1층</td>\n",
       "      <td>02-449-9703</td>\n",
       "      <td>서울특별시 송파구 위례광장로 230 위례2차 아이파크 B동 1층</td>\n",
       "      <td>127.1438</td>\n",
       "      <td>37.4786</td>\n",
       "    </tr>\n",
       "    <tr>\n",
       "      <th>5</th>\n",
       "      <td>현대시티몰가든파이브점</td>\n",
       "      <td>서울특별시 송파구 충민로 66 가든파이브 라이프동 테크노관 1층</td>\n",
       "      <td>02-2673-2110</td>\n",
       "      <td>서울특별시 송파구 충민로 66 가든파이브 라이프동 테크노관 1층</td>\n",
       "      <td>127.1251</td>\n",
       "      <td>37.4777</td>\n",
       "    </tr>\n",
       "    <tr>\n",
       "      <th>6</th>\n",
       "      <td>몽촌토성역점</td>\n",
       "      <td>서울시 송파구 방이동 44-2, 장은빌딩 1층</td>\n",
       "      <td>02-2141-0407</td>\n",
       "      <td>서울특별시 송파구 방이동 44-2, 장은빌딩 1층</td>\n",
       "      <td>127.1127</td>\n",
       "      <td>37.5169</td>\n",
       "    </tr>\n",
       "    <tr>\n",
       "      <th>7</th>\n",
       "      <td>문정역엠스테이트점</td>\n",
       "      <td>서울특별시 송파구 법원로 114, 엠스테이트 B동 지하 1층, B145-147</td>\n",
       "      <td>02-6177-9080</td>\n",
       "      <td>서울특별시 송파구 법원로 114, 엠스테이트 B동 지하 1층, B145-147</td>\n",
       "      <td>127.1209</td>\n",
       "      <td>37.4854</td>\n",
       "    </tr>\n",
       "    <tr>\n",
       "      <th>8</th>\n",
       "      <td>송파파크하비오점</td>\n",
       "      <td>서울특별시 송파구 송파대로 111 송파파크하비오 205동 1층 110-113</td>\n",
       "      <td>02-449-6881</td>\n",
       "      <td>서울특별시 송파구 송파대로 111 송파파크하비오 205동 1층 110-113</td>\n",
       "      <td>127.1231</td>\n",
       "      <td>37.4812</td>\n",
       "    </tr>\n",
       "    <tr>\n",
       "      <th>9</th>\n",
       "      <td>석촌호수점</td>\n",
       "      <td>서울시 송파구 석촌호수로 222 제이타워 1층</td>\n",
       "      <td>02-415-1235</td>\n",
       "      <td>서울특별시 송파구 석촌호수로 222 제이타워 1층</td>\n",
       "      <td>127.1016</td>\n",
       "      <td>37.5070</td>\n",
       "    </tr>\n",
       "    <tr>\n",
       "      <th>10</th>\n",
       "      <td>올림픽플라자점</td>\n",
       "      <td>서울시 송파구 양재대로 1222 올림픽선수A 1층212~3호</td>\n",
       "      <td>02-402-3571</td>\n",
       "      <td>서울특별시 송파구 양재대로 1222 올림픽선수A 1층212~3호</td>\n",
       "      <td>127.1326</td>\n",
       "      <td>37.5165</td>\n",
       "    </tr>\n",
       "    <tr>\n",
       "      <th>11</th>\n",
       "      <td>방이점</td>\n",
       "      <td>서울시 송파구 오금로 11길 7</td>\n",
       "      <td>02-415-5561</td>\n",
       "      <td>서울특별시 송파구 오금로 11길 7</td>\n",
       "      <td>127.1129</td>\n",
       "      <td>37.5159</td>\n",
       "    </tr>\n",
       "    <tr>\n",
       "      <th>12</th>\n",
       "      <td>잠실신천점</td>\n",
       "      <td>서울시 송파구 석촌호수로 118 1층</td>\n",
       "      <td>02-416-9520</td>\n",
       "      <td>서울특별시 송파구 석촌호수로 118 1층</td>\n",
       "      <td>127.0900</td>\n",
       "      <td>37.5074</td>\n",
       "    </tr>\n",
       "  </tbody>\n",
       "</table>\n",
       "</div>"
      ],
      "text/plain": [
       "          store                                         address         phone  \\\n",
       "0      송파헬리오시티점   서울시 송파구 송파대로 345 ( 헬리오시티상가 3블럭 A동 B1층 22호 )     02-777-3363   \n",
       "1       잠실향군타워점                      서울특별시 송파구 올림픽로35길 123 1층     02-412-8812   \n",
       "2    문정동환인제약빌딩점                   서울특별시 송파구 법원로6길 11 환인빌딩 1층      02-449-9569   \n",
       "3      방이역4번출구점                             서울 송파구 방이동 206-11     02-420-0386   \n",
       "4     위례2차아이파크점             서울시 송파구 위례광장로 230 위례2차 아이파크 B동 1층     02-449-9703   \n",
       "5   현대시티몰가든파이브점           서울특별시 송파구 충민로 66 가든파이브 라이프동 테크노관 1층    02-2673-2110   \n",
       "6        몽촌토성역점                     서울시 송파구 방이동 44-2, 장은빌딩 1층    02-2141-0407   \n",
       "7     문정역엠스테이트점  서울특별시 송파구 법원로 114, 엠스테이트 B동 지하 1층, B145-147     02-6177-9080   \n",
       "8      송파파크하비오점    서울특별시 송파구 송파대로 111 송파파크하비오 205동 1층 110-113     02-449-6881   \n",
       "9         석촌호수점                     서울시 송파구 석촌호수로 222 제이타워 1층     02-415-1235   \n",
       "10      올림픽플라자점             서울시 송파구 양재대로 1222 올림픽선수A 1층212~3호     02-402-3571   \n",
       "11          방이점                             서울시 송파구 오금로 11길 7     02-415-5561   \n",
       "12        잠실신천점                          서울시 송파구 석촌호수로 118 1층     02-416-9520   \n",
       "\n",
       "                                         address2        경도       위도  \n",
       "0   서울특별시 송파구 송파대로 345 ( 헬리오시티상가 3블럭 A동 B1층 22호 )  127.1025  37.4977  \n",
       "1                        서울특별시 송파구 올림픽로35길 123 1층  127.1012  37.5166  \n",
       "2                      서울특별시 송파구 법원로6길 11 환인빌딩 1층  127.1222  37.4836  \n",
       "3                            서울특별시 송파구 방이동 206-11  127.1258  37.5094  \n",
       "4             서울특별시 송파구 위례광장로 230 위례2차 아이파크 B동 1층  127.1438  37.4786  \n",
       "5             서울특별시 송파구 충민로 66 가든파이브 라이프동 테크노관 1층  127.1251  37.4777  \n",
       "6                     서울특별시 송파구 방이동 44-2, 장은빌딩 1층  127.1127  37.5169  \n",
       "7     서울특별시 송파구 법원로 114, 엠스테이트 B동 지하 1층, B145-147  127.1209  37.4854  \n",
       "8      서울특별시 송파구 송파대로 111 송파파크하비오 205동 1층 110-113  127.1231  37.4812  \n",
       "9                     서울특별시 송파구 석촌호수로 222 제이타워 1층  127.1016  37.5070  \n",
       "10            서울특별시 송파구 양재대로 1222 올림픽선수A 1층212~3호  127.1326  37.5165  \n",
       "11                            서울특별시 송파구 오금로 11길 7  127.1129  37.5159  \n",
       "12                         서울특별시 송파구 석촌호수로 118 1층  127.0900  37.5074  "
      ]
     },
     "execution_count": 83,
     "metadata": {},
     "output_type": "execute_result"
    }
   ],
   "source": [
    "for i in range(len(CB2)):\n",
    "    result = None\n",
    "    coord_x = coord_y = 0.0\n",
    "    result = geocode(CB2.at[i, 'address2']).json()\n",
    "    if result['response']['status'] != 'NOT_FOUND':\n",
    "        coord_x = result['response']['result']['point']['x']\n",
    "        coord_y = result['response']['result']['point']['y']\n",
    "    else:\n",
    "        # 도로명 주소 공백이 없을 때 못찾는 경우 처리\n",
    "        str1 = re.sub('([a-zA-Zㄱ-힗]+로)([0-9]+)', '\\\\1 \\\\2', CB2.at[i, 'address2'])\n",
    "        result = geocode(str1).json()\n",
    "        if result['response']['status'] != 'NOT_FOUND':\n",
    "            coord_x = result['response']['result']['point']['x']\n",
    "            coord_y = result['response']['result']['point']['y']\n",
    "        else:      \n",
    "            # 도로명 주소로 못찾을 경우 지번 주소로 검색\n",
    "            result = geocode(CB2.at[i, 'address2'], 'PARCEL').json()\n",
    "            if result['response']['status'] != 'NOT_FOUND':\n",
    "                coord_x = result['response']['result']['point']['x']\n",
    "                coord_y = result['response']['result']['point']['y']\n",
    "            else: \n",
    "                continue\n",
    "    \n",
    "    CB2.at[i, '경도'] = round(float(coord_x), 4)\n",
    "    CB2.at[i, '위도'] = round(float(coord_y), 4)\n",
    "\n",
    "CB2"
   ]
  },
  {
   "cell_type": "code",
   "execution_count": 84,
   "metadata": {},
   "outputs": [
    {
     "data": {
      "text/plain": [
       "13"
      ]
     },
     "execution_count": 84,
     "metadata": {},
     "output_type": "execute_result"
    }
   ],
   "source": [
    "len(CB2) #확인용 출력"
   ]
  },
  {
   "cell_type": "code",
   "execution_count": 85,
   "metadata": {},
   "outputs": [],
   "source": [
    "map_CB = folium.Map(location=[37.4854, 127.1209], zoom_start = 15)"
   ]
  },
  {
   "cell_type": "markdown",
   "metadata": {},
   "source": [
    "파란색 깃발 모양의 마커 생성"
   ]
  },
  {
   "cell_type": "code",
   "execution_count": 86,
   "metadata": {},
   "outputs": [],
   "source": [
    "for i, store in CB2.iterrows():   \n",
    "    folium.Marker(location=[store['위도'], store['경도']], popup= store['store'], icon=folium.Icon(color='blue', icon='flag')).add_to(map_CB)"
   ]
  },
  {
   "cell_type": "code",
   "execution_count": 87,
   "metadata": {},
   "outputs": [],
   "source": [
    "map_CB.save('./map_CB.html')\n",
    "CB2.to_csv('./201935256문지환송파커피빈좌표.csv', encoding='CP949', index = False)"
   ]
  },
  {
   "cell_type": "code",
   "execution_count": 88,
   "metadata": {},
   "outputs": [
    {
     "data": {
      "text/plain": [
       "True"
      ]
     },
     "execution_count": 88,
     "metadata": {},
     "output_type": "execute_result"
    }
   ],
   "source": [
    "import webbrowser\n",
    "\n",
    "webbrowser.open('./map_CB.html')"
   ]
  }
 ],
 "metadata": {
  "interpreter": {
   "hash": "2b2a18499802adb5adfc5c2391adcefaa4fe6db4c40279856835d833eb5f0570"
  },
  "kernelspec": {
   "display_name": "Python 3.8.9 ('venv': venv)",
   "language": "python",
   "name": "python3"
  },
  "language_info": {
   "codemirror_mode": {
    "name": "ipython",
    "version": 3
   },
   "file_extension": ".py",
   "mimetype": "text/x-python",
   "name": "python",
   "nbconvert_exporter": "python",
   "pygments_lexer": "ipython3",
   "version": "3.8.9"
  },
  "orig_nbformat": 4
 },
 "nbformat": 4,
 "nbformat_minor": 2
}
