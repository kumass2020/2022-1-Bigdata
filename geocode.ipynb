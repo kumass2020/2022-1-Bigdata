{
 "cells": [
  {
   "cell_type": "code",
   "execution_count": 21,
   "id": "1e2a052b",
   "metadata": {},
   "outputs": [],
   "source": [
    "import requests\n",
    "from urllib import parse\n",
    "import pandas as pd"
   ]
  },
  {
   "cell_type": "code",
   "execution_count": null,
   "id": "ae38a86c",
   "metadata": {},
   "outputs": [],
   "source": [
    "CB = pd.read_csv"
   ]
  },
  {
   "cell_type": "code",
   "execution_count": 26,
   "id": "cd3005f6",
   "metadata": {},
   "outputs": [
    {
     "name": "stdout",
     "output_type": "stream",
     "text": [
      "{\"response\" : {\"service\" : {\"name\" : \"address\", \"version\" : \"2.0\", \"operation\" : \"getcoord\", \"time\" : \"26(ms)\"}, \"status\" : \"OK\", \"input\" : {\"type\" : \"road\", \"address\" : \"서울시 성동구 아차산로7나길 18\"}, \"refined\" : {\"text\" : \"서울특별시 성동구 아차산로7나길 18 (성수동2가)\", \"structure\" : {\"level0\" : \"대한민국\", \"level1\" : \"서울특별시\", \"level2\" : \"성동구\", \"level3\" : \"성수동2가\", \"level4L\" : \"아차산로7나길\", \"level4LC\" : \"\", \"level4A\" : \"성수2가제3동\", \"level4AC\" : \"1120069000\", \"level5\" : \"18\", \"detail\" : \"대선 APEX CENTER\"}}, \"result\" : {\"crs\" : \"EPSG:4326\", \"point\" : {\"x\" : \"127.057456365\", \"y\" : \"37.547701759\"}}}}\n"
     ]
    }
   ],
   "source": [
    "def geocode(address):\n",
    "    result = requests.get(\"http://api.vworld.kr/req/address?service=address\"\n",
    "        + \"&request=getcoord\"\n",
    "        + \"&address=\" + parse.quote(address) + \"&type=road\"\n",
    "        + \"&key=838DDA11-A005-360D-8388-51D7EFC76EFC\")\n",
    "    print(result.text)\n",
    "    return result\n",
    "\n",
    "geocode('서울시 성동구 아차산로7나길 18');"
   ]
  }
 ],
 "metadata": {
  "kernelspec": {
   "display_name": "Python 3 (ipykernel)",
   "language": "python",
   "name": "python3"
  },
  "language_info": {
   "codemirror_mode": {
    "name": "ipython",
    "version": 3
   },
   "file_extension": ".py",
   "mimetype": "text/x-python",
   "name": "python",
   "nbconvert_exporter": "python",
   "pygments_lexer": "ipython3",
   "version": "3.9.12"
  }
 },
 "nbformat": 4,
 "nbformat_minor": 5
}
