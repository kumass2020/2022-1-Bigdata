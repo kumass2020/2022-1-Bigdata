{
 "cells": [
  {
   "cell_type": "code",
   "execution_count": 21,
   "id": "0cb41526",
   "metadata": {},
   "outputs": [],
   "source": [
    "import requests\n",
    "from urllib import parse\n",
    "import pandas as pd"
   ]
  },
  {
   "cell_type": "code",
   "execution_count": null,
   "id": "7dfc09bf",
   "metadata": {},
   "outputs": [],
   "source": [
    "CB = pd.read_csv"
   ]
  },
  {
   "cell_type": "code",
   "execution_count": 41,
   "id": "e6129734",
   "metadata": {},
   "outputs": [
    {
     "name": "stdout",
     "output_type": "stream",
     "text": [
      "{\"response\" : {\"service\" : {\"name\" : \"address\", \"version\" : \"2.0\", \"operation\" : \"getcoord\", \"time\" : \"34(ms)\"}, \"status\" : \"OK\", \"input\" : {\"type\" : \"road\", \"address\" : \"경기도 성남시 분당구 야탑로 64 DS타워 1층\"}, \"refined\" : {\"text\" : \"경기도 성남시 분당구 야탑로 64 (야탑동)\", \"structure\" : {\"level0\" : \"대한민국\", \"level1\" : \"경기도\", \"level2\" : \"성남시 분당구\", \"level3\" : \"야탑동\", \"level4L\" : \"야탑로\", \"level4LC\" : \"\", \"level4A\" : \"야탑2동\", \"level4AC\" : \"4113563000\", \"level5\" : \"64\", \"detail\" : \"야탑시장\"}}, \"result\" : {\"crs\" : \"EPSG:4326\", \"point\" : {\"x\" : \"127.125971524\", \"y\" : \"37.409484898\"}}}}\n"
     ]
    }
   ],
   "source": [
    "def geocode(address):\n",
    "    result = requests.get(\"http://api.vworld.kr/req/address?service=address\"\n",
    "        + \"&request=getcoord\"\n",
    "        + \"&address=\" + parse.quote(address) + \"&type=road\"\n",
    "        + \"&key=838DDA11-A005-360D-8388-51D7EFC76EFC\")\n",
    "    print(result.text)\n",
    "    return result\n",
    "\n",
    "geocode('경기도 성남시 분당구 야탑로 64 DS타워 1층');"
   ]
  },
  {
   "cell_type": "code",
   "execution_count": null,
   "id": "423df72a",
   "metadata": {},
   "outputs": [],
   "source": []
  }
 ],
 "metadata": {
  "kernelspec": {
   "display_name": "Python 3 (ipykernel)",
   "language": "python",
   "name": "python3"
  },
  "language_info": {
   "codemirror_mode": {
    "name": "ipython",
    "version": 3
   },
   "file_extension": ".py",
   "mimetype": "text/x-python",
   "name": "python",
   "nbconvert_exporter": "python",
   "pygments_lexer": "ipython3",
   "version": "3.9.12"
  }
 },
 "nbformat": 4,
 "nbformat_minor": 5
}
